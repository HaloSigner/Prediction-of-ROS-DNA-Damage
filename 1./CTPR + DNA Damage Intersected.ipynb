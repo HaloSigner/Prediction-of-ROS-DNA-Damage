{
 "cells": [
  {
   "cell_type": "markdown",
   "id": "3ebac57d-9c88-4eba-828e-29efca40a113",
   "metadata": {},
   "source": [
    "## Combine Metadata with CTRP"
   ]
  },
  {
   "cell_type": "code",
   "execution_count": 1,
   "id": "ab7689f8-5946-4dee-ad4f-11c963084eb8",
   "metadata": {},
   "outputs": [],
   "source": [
    "import pandas as pd\n",
    "import numpy as np"
   ]
  },
  {
   "cell_type": "code",
   "execution_count": 15,
   "id": "00581a76-976d-499a-b038-e3a1a9a1e32d",
   "metadata": {},
   "outputs": [],
   "source": [
    "# load Predicited DNA file\n",
    "dna = pd.read_csv('DNA_Damage.csv')\n",
    "dna = dna.iloc[:, 1:]\n",
    "\n",
    "# CTPR Metadata\n",
    "ctrp = pd.read_csv('v21.meta.per_compound.txt', sep='\\t')"
   ]
  },
  {
   "cell_type": "code",
   "execution_count": 16,
   "id": "91952b95-b862-4ce2-9c4d-69b6b7c54f30",
   "metadata": {},
   "outputs": [
    {
     "name": "stdout",
     "output_type": "stream",
     "text": [
      "DNA Damage Predicted compound : 1377\n",
      "CTRP Metadata Compound : 481\n"
     ]
    }
   ],
   "source": [
    "# Data shape check\n",
    "print(f'DNA Damage Predicted compound : {dna.shape[0]}')\n",
    "print(f'CTRP Metadata Compound : {ctrp.shape[0]}')"
   ]
  },
  {
   "cell_type": "code",
   "execution_count": 17,
   "id": "7fd8ea90-0fb6-4036-bddb-3e79bdfb302a",
   "metadata": {},
   "outputs": [],
   "source": [
    "# Intersected Columns\n",
    "tar_col = dna.CPD_NAME"
   ]
  },
  {
   "cell_type": "code",
   "execution_count": 18,
   "id": "cae05f29-bfd3-452c-865f-12c2ccbe0b06",
   "metadata": {},
   "outputs": [
    {
     "name": "stdout",
     "output_type": "stream",
     "text": [
      "Intersected Compound : 40\n"
     ]
    }
   ],
   "source": [
    "ctrp = ctrp[ctrp['cpd_name'].isin(tar_col)]\n",
    "\n",
    "print(f'Intersected Compound : {ctrp.shape[0]}')"
   ]
  },
  {
   "cell_type": "code",
   "execution_count": 23,
   "id": "e9a3f688-91fb-4528-97ac-310745f14a62",
   "metadata": {},
   "outputs": [],
   "source": [
    "# Fileter out column that we need\n",
    "fil_ctrp = ctrp[['cpd_name', 'cpd_status', 'gene_symbol_of_protein_target', 'target_or_activity_of_compound']]"
   ]
  },
  {
   "cell_type": "code",
   "execution_count": 32,
   "id": "f327a425-090c-4887-8ae0-2af29970b507",
   "metadata": {},
   "outputs": [],
   "source": [
    "# Combined Data\n",
    "combined_df = dna.merge(fil_ctrp, left_on='CPD_NAME', right_on='cpd_name', how='left')\n",
    "\n",
    "combined_df.to_csv('Intersected Compound Meta (DNA Damage + CTRP).csv')"
   ]
  }
 ],
 "metadata": {
  "kernelspec": {
   "display_name": "Python 3 (ipykernel)",
   "language": "python",
   "name": "python3"
  },
  "language_info": {
   "codemirror_mode": {
    "name": "ipython",
    "version": 3
   },
   "file_extension": ".py",
   "mimetype": "text/x-python",
   "name": "python",
   "nbconvert_exporter": "python",
   "pygments_lexer": "ipython3",
   "version": "3.9.20"
  }
 },
 "nbformat": 4,
 "nbformat_minor": 5
}
