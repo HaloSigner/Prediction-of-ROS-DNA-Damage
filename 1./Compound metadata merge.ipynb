{
 "cells": [
  {
   "cell_type": "code",
   "execution_count": 1,
   "metadata": {},
   "outputs": [],
   "source": [
    "import pandas as pd"
   ]
  },
  {
   "cell_type": "code",
   "execution_count": 4,
   "metadata": {},
   "outputs": [
    {
     "name": "stdout",
     "output_type": "stream",
     "text": [
      "Hit compound : 1377\n"
     ]
    }
   ],
   "source": [
    "# Load Hit compound data\n",
    "dna_df = pd.read_excel('DNA_Damage.xlsx')\n",
    "dna_df = dna_df.iloc[:, 1:]\n",
    "print(f'Hit Compound : {dna_df.shape[0]}')"
   ]
  },
  {
   "cell_type": "code",
   "execution_count": 14,
   "metadata": {},
   "outputs": [
    {
     "name": "stdout",
     "output_type": "stream",
     "text": [
      "Compound : 1972\n"
     ]
    }
   ],
   "source": [
    "# Load Drug Bank 5.0 Approve compound data (https://www.pnas.org/doi/10.1073/pnas.1803294115)\n",
    "approve_df = pd.read_csv('Approved_drug_Information.txt', sep='\\t')\n",
    "approve_df.columns = ['DB ID', 'Name', 'Category', 'Status', 'Target', 'Target ID', 'Drug ID', 'Inhibitor Type', 'Approved']\n",
    "print(f'Compound : {len(set(approve_df[\"Name\"]))}')"
   ]
  },
  {
   "cell_type": "code",
   "execution_count": 15,
   "metadata": {},
   "outputs": [
    {
     "name": "stdout",
     "output_type": "stream",
     "text": [
      "Intersected Compound : 339\n"
     ]
    }
   ],
   "source": [
    "filt_dna = dna_df[dna_df['CPD_NAME'].str.lower().isin(approve_df['Name'].str.lower())]\n",
    "print(f'Intersected Compound : {filt_dna.shape[0]}')\n",
    "approve_df['Name'] = approve_df['Name'].str.lower()\n",
    "merged_df = pd.merge(dna_df, approve_df, left_on=dna_df['CPD_NAME'].str.lower(), right_on='Name', how='left')\n",
    "merged_df.to_excel('Intersected_drug.xlsx')"
   ]
  }
 ],
 "metadata": {
  "kernelspec": {
   "display_name": "Python 3 (ipykernel)",
   "language": "python",
   "name": "python3"
  },
  "language_info": {
   "codemirror_mode": {
    "name": "ipython",
    "version": 3
   },
   "file_extension": ".py",
   "mimetype": "text/x-python",
   "name": "python",
   "nbconvert_exporter": "python",
   "pygments_lexer": "ipython3",
   "version": "3.9.20"
  }
 },
 "nbformat": 4,
 "nbformat_minor": 4
}
